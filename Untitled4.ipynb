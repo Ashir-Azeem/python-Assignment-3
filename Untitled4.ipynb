{
 "cells": [
  {
   "cell_type": "code",
   "execution_count": 3,
   "id": "fa80890a-a22d-445f-9321-c9e3c88709c4",
   "metadata": {},
   "outputs": [
    {
     "name": "stdin",
     "output_type": "stream",
     "text": [
      "marks of Computar 67\n",
      "marks of Science 78\n",
      "marks of English 89\n",
      "marks of Islamiyat 78\n",
      "marks of Maths 67\n"
     ]
    },
    {
     "name": "stdout",
     "output_type": "stream",
     "text": [
      "Grade A\n",
      "Good work\n"
     ]
    }
   ],
   "source": [
    "#Q7 MARK SHEET FOR STUDENT\n",
    "Computar = v = int(input(\"marks of Computar\"));\n",
    "Science = w = int(input(\"marks of Science\"));\n",
    "English = x = int(input(\"marks of English\"));\n",
    "Islamiyat = y =int(input(\"marks of Islamiyat\"));\n",
    "Maths = z =int(input(\"marks of Maths\"));\n",
    "percent = (v+w+x+y+z)*100/500\n",
    "if percent < 100 and percent > 80:\n",
    "    print(\"Grade A+\")\n",
    "    print(\"Excellent work\");\n",
    "elif percent < 80 and percent > 70:\n",
    "    print(\"Grade A\")\n",
    "    print(\"Good work\");\n",
    "elif percent < 70 and percent > 60:\n",
    "    print(\"Grade B\")\n",
    "    print(\"Work hard\");\n",
    "elif  percent < 60 and percent > 50:\n",
    "    print(\"Grade c\")\n",
    "    print(\"focus on your studies\");\n",
    "elif percent < 50:\n",
    "    print(\"Fail\")\n",
    "    print(\"Very weak progress\");\n",
    "elif percent > 100:\n",
    "    print(\"SORRY, there must be a systematic error\")"
   ]
  },
  {
   "cell_type": "raw",
   "id": "cdef6e8b-a072-4c35-9370-eb07998e9291",
   "metadata": {},
   "source": [
    "#Q1 python code to write the poem twinkle twinkle little star"
   ]
  },
  {
   "cell_type": "code",
   "execution_count": 2,
   "id": "c7d5d199-a0b7-48b4-9ed2-ed51ef279c4e",
   "metadata": {},
   "outputs": [
    {
     "name": "stdout",
     "output_type": "stream",
     "text": [
      "Twinkle twinkle, little star,\n",
      "   HOW i wonder what you are!\n",
      "         Up above the world so high,\n",
      "         Like a diamond in the sky.\n",
      "Twinkle twinkle little star\n",
      "   How i wonder what you are.\n"
     ]
    }
   ],
   "source": [
    "print(\"Twinkle twinkle, little star,\\n   HOW i wonder what you are!\\n         Up above the world so high,\\n         Like a diamond in the sky.\\nTwinkle twinkle little star\\n   How i wonder what you are.\")"
   ]
  },
  {
   "cell_type": "code",
   "execution_count": 4,
   "id": "52a9a678-f0f0-45c7-baad-006b899d763a",
   "metadata": {},
   "outputs": [],
   "source": [
    "#Q2 program to get the python version\n",
    "from platform import python_version"
   ]
  },
  {
   "cell_type": "code",
   "execution_count": 5,
   "id": "46f8f8b7-91b8-47f6-b25d-7ccfd2dce2c3",
   "metadata": {},
   "outputs": [
    {
     "name": "stdout",
     "output_type": "stream",
     "text": [
      "<function python_version at 0x00000182056AC310>\n"
     ]
    }
   ],
   "source": [
    "print(python_version)"
   ]
  },
  {
   "cell_type": "code",
   "execution_count": 6,
   "id": "dfb4c94e-b26c-4e84-9cb9-d074a9754ba4",
   "metadata": {},
   "outputs": [],
   "source": [
    "#Q3 program to get the current date and time \n",
    "import time"
   ]
  },
  {
   "cell_type": "code",
   "execution_count": 7,
   "id": "e368668b-c8fa-4997-bc99-a1059c2e8fa9",
   "metadata": {},
   "outputs": [
    {
     "data": {
      "text/plain": [
       "1634925166.6737032"
      ]
     },
     "execution_count": 7,
     "metadata": {},
     "output_type": "execute_result"
    }
   ],
   "source": [
    "time.time()"
   ]
  },
  {
   "cell_type": "code",
   "execution_count": 8,
   "id": "52d79873-cc49-47ed-941a-f8704bb79828",
   "metadata": {},
   "outputs": [
    {
     "data": {
      "text/plain": [
       "'Fri Oct 22 22:52:46 2021'"
      ]
     },
     "execution_count": 8,
     "metadata": {},
     "output_type": "execute_result"
    }
   ],
   "source": [
    "time.ctime(1634925166.6737032)"
   ]
  },
  {
   "cell_type": "code",
   "execution_count": null,
   "id": "99bf26c9-00a3-4dfd-a2b1-1b490d147edf",
   "metadata": {},
   "outputs": [],
   "source": []
  },
  {
   "cell_type": "code",
   "execution_count": 13,
   "id": "ffd0077b-3a2a-4145-a413-0014b2774aa9",
   "metadata": {},
   "outputs": [],
   "source": [
    "#Q4 program that accept the radius from user and calculate the area of the circle."
   ]
  },
  {
   "cell_type": "code",
   "execution_count": 12,
   "id": "5b04021c-51da-4d30-b3b6-39d9962aabdd",
   "metadata": {},
   "outputs": [
    {
     "name": "stdin",
     "output_type": "stream",
     "text": [
      "value of Radius of circle 7\n"
     ]
    },
    {
     "name": "stdout",
     "output_type": "stream",
     "text": [
      "153.958\n"
     ]
    }
   ],
   "source": [
    "Radius = r = int(input(\"value of Radius of circle\"));\n",
    "A = 3.142*r**2;\n",
    "print(A)"
   ]
  },
  {
   "cell_type": "code",
   "execution_count": 23,
   "id": "e1d293ca-59b6-4d76-b068-004717fc4698",
   "metadata": {},
   "outputs": [],
   "source": []
  },
  {
   "cell_type": "code",
   "execution_count": 23,
   "id": "75b7839f-c066-4fc6-a226-7baac76e8fd0",
   "metadata": {},
   "outputs": [],
   "source": [
    "#Q5 program that accept user`s first and last name and add them in reverse order withe a space between them."
   ]
  },
  {
   "cell_type": "code",
   "execution_count": 22,
   "id": "8e5714be-64a7-4e7a-93f3-96f8795e0884",
   "metadata": {},
   "outputs": [
    {
     "name": "stdin",
     "output_type": "stream",
     "text": [
      "first name  Mohammad\n",
      "last name Ashir\n"
     ]
    },
    {
     "name": "stdout",
     "output_type": "stream",
     "text": [
      "Ashir Mohammad\n"
     ]
    }
   ],
   "source": [
    "x =input(\"first name\");\n",
    "y =input(\"last name\");\n",
    "z = y+x\n",
    "print(z)"
   ]
  },
  {
   "cell_type": "code",
   "execution_count": null,
   "id": "5ba06b04-8727-47c0-ad46-4f7f12c54f81",
   "metadata": {},
   "outputs": [],
   "source": []
  },
  {
   "cell_type": "code",
   "execution_count": null,
   "id": "3d39b358-46e4-4108-84e5-b40a2df6c213",
   "metadata": {},
   "outputs": [],
   "source": [
    "#Q6 A program that take 2 inputs from user and print them in additon. "
   ]
  },
  {
   "cell_type": "code",
   "execution_count": 1,
   "id": "fe627379-3e1f-4019-9074-2a0a02cd956e",
   "metadata": {},
   "outputs": [
    {
     "name": "stdin",
     "output_type": "stream",
     "text": [
      "value of x 8\n",
      "value of y 9\n"
     ]
    },
    {
     "name": "stdout",
     "output_type": "stream",
     "text": [
      "17\n"
     ]
    }
   ],
   "source": [
    "x = int(input(\"value of x\"));\n",
    "y = int(input(\"value of y\"));\n",
    "z = x + y;\n",
    "print(z)"
   ]
  },
  {
   "cell_type": "code",
   "execution_count": 4,
   "id": "113143c7-8483-4f58-ab4c-8f7a11c4a5aa",
   "metadata": {},
   "outputs": [],
   "source": []
  },
  {
   "cell_type": "code",
   "execution_count": null,
   "id": "69a66b11-1cea-4eb6-a474-73b99dd2c55a",
   "metadata": {},
   "outputs": [],
   "source": [
    "#Q8 A program that takes input from user and identifies the given number is even or odd"
   ]
  },
  {
   "cell_type": "code",
   "execution_count": 6,
   "id": "d94df75b-8b5b-4653-8e5e-c16c92a150b1",
   "metadata": {},
   "outputs": [
    {
     "name": "stdin",
     "output_type": "stream",
     "text": [
      "Enter an integer value 8\n"
     ]
    },
    {
     "name": "stdout",
     "output_type": "stream",
     "text": [
      "8 is even number\n"
     ]
    }
   ],
   "source": [
    "Number= int(input(\"Enter an integer value\"));\n",
    "remainder = Number % 2\n",
    "if remainder == 0:\n",
    "    print(Number,\"is even number\")\n",
    "else:\n",
    "    print(Number,\"is odd number\")"
   ]
  },
  {
   "cell_type": "code",
   "execution_count": 10,
   "id": "f704d696-1f22-4b94-9b83-4019283238bc",
   "metadata": {},
   "outputs": [
    {
     "name": "stdout",
     "output_type": "stream",
     "text": [
      "the lenght of the list is 7\n"
     ]
    }
   ],
   "source": [
    "#Q10 A program to print the length of list\n",
    "mylist = [12,\"ali\",-5,11,34,78,123]\n",
    "length =len(mylist)\n",
    "print(\"the lenght of the list is\",length)"
   ]
  },
  {
   "cell_type": "code",
   "execution_count": null,
   "id": "982d330a-5f12-45a5-9916-5fd5f7e9a23b",
   "metadata": {},
   "outputs": [],
   "source": []
  },
  {
   "cell_type": "code",
   "execution_count": 11,
   "id": "b543f96a-e34d-47ef-9ad1-2b037c23dae8",
   "metadata": {},
   "outputs": [
    {
     "name": "stdout",
     "output_type": "stream",
     "text": [
      "the sum of all numbers in list is 123\n"
     ]
    }
   ],
   "source": [
    "number = [7,8,9,12,8,20,8,51];\n",
    "total = sum(number)\n",
    "print(\"the sum of all numbers in list is\",total)"
   ]
  },
  {
   "cell_type": "code",
   "execution_count": 12,
   "id": "979545ae-a258-433d-af1c-4e9cb5f73250",
   "metadata": {},
   "outputs": [],
   "source": [
    "#Q11 A program to get the largest number of a numeric list"
   ]
  },
  {
   "cell_type": "code",
   "execution_count": 13,
   "id": "d8dcc87c-b5bc-476c-ab63-c4f96731b312",
   "metadata": {},
   "outputs": [
    {
     "name": "stdout",
     "output_type": "stream",
     "text": [
      "the largest number of this list is: 51\n"
     ]
    }
   ],
   "source": [
    "number = [7,8,9,12,8,20,8,51];\n",
    "print(\"the largest number of this list is:\",max(number))"
   ]
  },
  {
   "cell_type": "code",
   "execution_count": 14,
   "id": "9db3688f-5449-4391-b77c-d8fe999cd872",
   "metadata": {},
   "outputs": [],
   "source": [
    "#Q12a program that prints all the elements that are lesser than 5"
   ]
  },
  {
   "cell_type": "code",
   "execution_count": 20,
   "id": "bd814606-b6df-450c-a0df-d9e470249b55",
   "metadata": {},
   "outputs": [
    {
     "name": "stdout",
     "output_type": "stream",
     "text": [
      "[1, 1, 2, 3]\n"
     ]
    }
   ],
   "source": [
    "a = [1,1,2,3,5,8,13,21,34,55,89]\n",
    "lst = []\n",
    "for i in a:\n",
    "    if i<5:\n",
    "        lst.append(i)\n",
    "        \n",
    "\n",
    "print(lst)"
   ]
  },
  {
   "cell_type": "code",
   "execution_count": 21,
   "id": "73853257-ee1b-4820-9bfc-114380a282ad",
   "metadata": {},
   "outputs": [],
   "source": [
    "#THANKS FOR COMING, ASSIGNMENT COMPLETED"
   ]
  },
  {
   "cell_type": "code",
   "execution_count": null,
   "id": "a19cb531-9f10-4dc8-bb0b-862178e139d1",
   "metadata": {},
   "outputs": [],
   "source": []
  }
 ],
 "metadata": {
  "kernelspec": {
   "display_name": "Python 3",
   "language": "python",
   "name": "python3"
  },
  "language_info": {
   "codemirror_mode": {
    "name": "ipython",
    "version": 3
   },
   "file_extension": ".py",
   "mimetype": "text/x-python",
   "name": "python",
   "nbconvert_exporter": "python",
   "pygments_lexer": "ipython3",
   "version": "3.8.8"
  }
 },
 "nbformat": 4,
 "nbformat_minor": 5
}
